{
 "cells": [
  {
   "cell_type": "code",
   "execution_count": 1,
   "id": "c8ead505",
   "metadata": {},
   "outputs": [],
   "source": [
    "from PIL import Image ,ImageChops\n",
    "import matplotlib.pyplot as plt\n",
    "import numpy as np\n",
    "%matplotlib inline\n",
    "\n",
    "\n"
   ]
  },
  {
   "cell_type": "markdown",
   "id": "088000bb",
   "metadata": {},
   "source": [
    "# check after doing blending if both image are same or not"
   ]
  },
  {
   "cell_type": "markdown",
   "id": "f46f37ca",
   "metadata": {},
   "source": [
    "if same means both are same else both are not same"
   ]
  },
  {
   "cell_type": "code",
   "execution_count": 2,
   "id": "ec55b876",
   "metadata": {},
   "outputs": [
    {
     "name": "stdout",
     "output_type": "stream",
     "text": [
      "<PIL.Image.Image image mode=RGBA size=119x119 at 0x254957DCF70>\n",
      "Phishing attack\n"
     ]
    },
    {
     "data": {
      "image/png": "[encoded data removed]",
      "text/plain": [
       "<Figure size 432x288 with 5 Axes>"
      ]
     },
     "metadata": {
      "needs_background": "light"
     },
     "output_type": "display_data"
    }
   ],
   "source": [
    "img1=Image.open(\"t_check2.jpg\")\n",
    "t_real=Image.open(\"t_real.jpg\")\n",
    "\n",
    "img_b1=t_real.copy()\n",
    "img_b2=img1.copy()\n",
    "\n",
    "plt.subplot(3,2,1)\n",
    "plt.imshow(img_b1)\n",
    "plt.subplot(3,2,2)\n",
    "plt.imshow(img_b2)\n",
    "\n",
    "#print(img1)\n",
    "#making both images of same size \n",
    "img_b2=img_b2.resize(img_b1.size)\n",
    "\n",
    "\n",
    "#img_b2.show()\n",
    "#Converting both images into .png format for blending\n",
    "\n",
    "img_b1.save(\"img_b1.png\")\n",
    "img_b2.save(\"img_b2.png\")\n",
    "\n",
    "#for blending image format must be in .png \n",
    "\n",
    "img_b1=Image.open(\"img_b1.png\")\n",
    "img_b2=Image.open(\"img_b2.png\")\n",
    "\n",
    "\n",
    "plt.subplot(3,2,3)\n",
    "plt.imshow(img_b1)\n",
    "plt.subplot(3,2,4)\n",
    "plt.imshow(img_b2)\n",
    "\n",
    "\n",
    "\n",
    "img_b1=img_b1.convert(\"RGBA\")\n",
    "img_b2=img_b2.convert(\"RGBA\")\n",
    "\n",
    "#blending \n",
    "img_blending =Image.blend(img_b1,img_b2,.7)\n",
    "print(img_blending)\n",
    "plt.subplot(3,2,5)\n",
    "\n",
    "#img_blending.show()\n",
    "plt.imshow(img_blending)\n",
    "\n",
    "n_arr=np.array(img_b1)\n",
    "n_blend=np.array(img_blending)\n",
    "\n",
    "if (((n_arr==n_blend).all())) :\n",
    "    print(\" Not Phishing\")\n",
    "else:\n",
    "    print(\"Phishing attack\")"
   ]
  },
  {
   "cell_type": "markdown",
   "id": "dcf9141a",
   "metadata": {},
   "source": [
    "we can use Blending image to check what after blending. \n",
    "the image is same or not after the blendition the image is same means both are same of if not same \n",
    "means image is not same or it occur a phishing attack."
   ]
  },
  {
   "cell_type": "code",
   "execution_count": null,
   "id": "97752550",
   "metadata": {},
   "outputs": [],
   "source": []
  },
  {
   "cell_type": "markdown",
   "id": "1b9c235e",
   "metadata": {},
   "source": [
    "# if both image are same then "
   ]
  },
  {
   "cell_type": "code",
   "execution_count": 4,
   "id": "540f989c",
   "metadata": {},
   "outputs": [
    {
     "name": "stdout",
     "output_type": "stream",
     "text": [
      "(119, 119, 4)\n",
      "(119, 119, 4)\n",
      "(119, 119, 4)\n",
      " Not Phishing\n"
     ]
    }
   ],
   "source": [
    "numpy_arr=np.array(img_b2)\n",
    "print(numpy_arr.shape)\n",
    "\n",
    "numpy_array=np.array(img_b2)\n",
    "print(numpy_array.shape)\n",
    "\n",
    "numpy_array=np.array(img_b2)\n",
    "print(numpy_array.shape)\n",
    "\n",
    "check1=(numpy_array==numpy_array)\n",
    "check2=(numpy_array==numpy_arr)\n",
    "\n",
    " #if both type is not same the it must be different image\n",
    "  #if both type is same then then it must be same image and there is no phishing attack occur.\n",
    "    \n",
    "if (((numpy_array==numpy_arr).all())) :\n",
    "    print(\" Not Phishing\")\n",
    "else:\n",
    "    print(\"Phishing attack\")\n",
    "    "
   ]
  },
  {
   "cell_type": "code",
   "execution_count": null,
   "id": "ff75cc38",
   "metadata": {},
   "outputs": [],
   "source": []
  },
  {
   "cell_type": "markdown",
   "id": "1fe58a87",
   "metadata": {},
   "source": [
    "# if Both image are different"
   ]
  },
  {
   "cell_type": "code",
   "execution_count": 5,
   "id": "b00b4a4e",
   "metadata": {},
   "outputs": [
    {
     "name": "stdout",
     "output_type": "stream",
     "text": [
      "(119, 119, 4)\n",
      "(119, 119, 4)\n",
      "Phishing attack\n"
     ]
    }
   ],
   "source": [
    "numpy_arr=np.array(img_b1)\n",
    "print(numpy_arr.shape)\n",
    "\n",
    "numpy_array=np.array(img_b2)\n",
    "print(numpy_array.shape)\n",
    "\n",
    "\n",
    "check1=(numpy_array==numpy_array)\n",
    "check2=(numpy_array==numpy_arr)\n",
    "\n",
    " #if both type is not same the it must be different image\n",
    "  #if both type is same then then it must be same image and there is no phishing attack occur.\n",
    "    \n",
    "if (((numpy_array==numpy_arr).all())) :\n",
    "    print(\" Not Phishing\")\n",
    "else:\n",
    "    print(\"Phishing attack\")\n",
    "    "
   ]
  },
  {
   "cell_type": "code",
   "execution_count": null,
   "id": "8f5ee7a8",
   "metadata": {},
   "outputs": [],
   "source": []
  }
 ],
 "metadata": {
  "kernelspec": {
   "display_name": "Python 3",
   "language": "python",
   "name": "python3"
  },
  "language_info": {
   "codemirror_mode": {
    "name": "ipython",
    "version": 3
   },
   "file_extension": ".py",
   "mimetype": "text/x-python",
   "name": "python",
   "nbconvert_exporter": "python",
   "pygments_lexer": "ipython3",
   "version": "3.8.8"
  }
 },
 "nbformat": 4,
 "nbformat_minor": 5
}
